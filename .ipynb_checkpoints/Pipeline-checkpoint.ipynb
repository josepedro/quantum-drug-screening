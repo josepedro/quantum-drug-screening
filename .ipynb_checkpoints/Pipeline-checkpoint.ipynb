{
 "cells": [
  {
   "cell_type": "markdown",
   "metadata": {},
   "source": [
    "#### imports"
   ]
  },
  {
   "cell_type": "code",
   "execution_count": 1,
   "metadata": {},
   "outputs": [],
   "source": [
    "import pybel\n",
    "import os\n",
    "import subprocess\n",
    "import shutil\n",
    "from multiprocessing import Process"
   ]
  },
  {
   "cell_type": "markdown",
   "metadata": {},
   "source": [
    "#### help functions"
   ]
  },
  {
   "cell_type": "code",
   "execution_count": 2,
   "metadata": {},
   "outputs": [],
   "source": [
    "def chunks(lst, n):\n",
    "    \"\"\"Yield successive n-sized chunks from lst.\"\"\"\n",
    "    for i in range(0, len(lst), n):\n",
    "        yield lst[i:i + n]"
   ]
  },
  {
   "cell_type": "code",
   "execution_count": 3,
   "metadata": {},
   "outputs": [],
   "source": [
    "def execute_mopac_for(candidate_file, candidate_name):\n",
    "    cand_mol = None\n",
    "    for mol in pybel.readfile(\"pdb\", \"candidates/{}\".format(candidate_file)):\n",
    "        cand_mol = mol\n",
    "    pybel.Molecule(cand_mol).write(\"mop\", \"pipeline_temp/{}.mop\".format(candidate_name), overwrite=True)\n",
    "    \n",
    "    with open(\"pipeline_temp/{}.mop\".format(candidate_name)) as fin:\n",
    "        mopac_file = fin.readlines()\n",
    "        \n",
    "    if mopac_file:\n",
    "        mopac_file[0] = \"XYZ RAPID MOZYME PM7 LOG PDBOUT\\n\"\n",
    "        \n",
    "        with open(\"pipeline_temp/{}.mop\".format(candidate_name), 'w') as fout:\n",
    "            fout.write(\"\".join(mopac_file))\n",
    "            \n",
    "        #os.system(\"mopac pipeline_temp/{}.mop\".format(candidate_name))\n",
    "        p1 = subprocess.Popen(['/opt/mopac/MOPAC2016.exe', \"pipeline_temp/{}.mop\".format(candidate_name)])\n",
    "        p1.wait()\n",
    "        \n",
    "        if os.path.exists(\"pipeline_temp/{}.pdb\".format(candidate_name)):\n",
    "            return \"pipeline_temp/{}.pdb\".format(candidate_name)\n",
    "        else:\n",
    "            return None\n",
    "    else:\n",
    "        pass #TODO: should implement exceptions\n",
    "    return None\n",
    "        "
   ]
  },
  {
   "cell_type": "code",
   "execution_count": 4,
   "metadata": {},
   "outputs": [],
   "source": [
    "def convert_through_mgtools(pdb_file, candidate_name):\n",
    "    target_file = \"pipeline_temp/{}.pdbqt\".format(candidate_name)\n",
    "    p1 = subprocess.Popen([\n",
    "        '/home/danielpopescu93/autodock/mgltools_x86_64Linux2_1.5.6/bin/pythonsh',\n",
    "        'prepare_ligand4.py',\n",
    "        '-l',\n",
    "        pdb_file,\n",
    "        '-o',\n",
    "        target_file\n",
    "    ])\n",
    "    p1.wait()\n",
    "    if os.path.exists(target_file):\n",
    "        return target_file\n",
    "    else:\n",
    "        return None "
   ]
  },
  {
   "cell_type": "code",
   "execution_count": 5,
   "metadata": {},
   "outputs": [],
   "source": [
    "def get_vina_results(log_file):\n",
    "    with open(log_file) as fin:\n",
    "        logs = fin.read()\n",
    "    if logs.find(\"Refining results ... done.\") >= 0:\n",
    "        if logs.rfind('+----------'):\n",
    "            logs = logs[logs.rfind('+----------')+11:]\n",
    "            logs = logs.split()\n",
    "            affinities = []\n",
    "            affinity_pos = 1\n",
    "            while affinity_pos < len(logs):\n",
    "                try:\n",
    "                    affinities.append(float(logs[affinity_pos]))\n",
    "                    affinity_pos += 4\n",
    "                except ValueError:\n",
    "                    break\n",
    "            return affinities\n",
    "    return None"
   ]
  },
  {
   "cell_type": "code",
   "execution_count": 16,
   "metadata": {},
   "outputs": [],
   "source": [
    "def run_vina(pdbqt_file, candidate_name):\n",
    "    shutil.copy(pdbqt_file, \"vina_conf/{}.pdbqt\".format(candidate_name))\n",
    "    shutil.copy(\"target.pdbqt\", \"vina_conf/target.pdbqt\")\n",
    "    with open(\"vina_conf/conf.txt\", 'w') as fout:\n",
    "        fout.write(\"\"\"receptor = vina_conf/target.pdbqt\n",
    "ligand = vina_conf/{}.pdbqt\n",
    "\n",
    "center_x = 0\n",
    "center_y = 0\n",
    "center_z = 0\n",
    "\n",
    "size_x = 30\n",
    "size_y = 30\n",
    "size_z = 30\n",
    "\n",
    "exhaustiveness = 8\"\"\".format(candidate_name))\n",
    "    \n",
    "    os.system(\"./autodock_vina/bin/vina --config vina_conf/conf.txt --log vina_conf/log.txt\")\n",
    "    \n",
    "    results_file = \"vina_conf/{}_out.pdbqt\".format(candidate_name)\n",
    "    log_file = \"pipeline_temp/{}_log.txt\".format(candidate_name)\n",
    "    if os.path.exists(results_file):\n",
    "        #shutil.move(results_file, \"pipeline_temp/{}_out.pdbqt\".format(candidate_name))\n",
    "        shutil.move(\"vina_conf/log.txt\", log_file)\n",
    "        \n",
    "        affinities = get_vina_results(log_file)\n",
    "        if affinities:\n",
    "            return max(affinities)\n",
    "    else:\n",
    "        print(\"results?\", results_file)\n",
    "        \n",
    "    return None"
   ]
  },
  {
   "cell_type": "code",
   "execution_count": 7,
   "metadata": {},
   "outputs": [],
   "source": [
    "def run_for_candidate(candidate):\n",
    "    #print(\"Process {} Start\".format(process_nr))\n",
    "    mopac_res = execute_mopac_for(candidate['candidate_file'], candidate['candidate_name'])\n",
    "    if mopac_res:\n",
    "        candidate['mopac_result_pdb'] = mopac_res\n",
    "    else:\n",
    "        return #TODO: implement exceptions\n",
    "    mgtools_res = convert_through_mgtools(candidate['mopac_result_pdb'], candidate['candidate_name'])\n",
    "    if mgtools_res:\n",
    "        candidate['mgtools_pdbqt_file'] = mgtools_res\n",
    "    else:\n",
    "        return #TODO: implement exceptions\n",
    "    vina_result = run_vina(candidate['mgtools_pdbqt_file'], candidate['candidate_name'])\n",
    "    if vina_result:\n",
    "        candidate['vina_result'] = vina_result\n",
    "    else:\n",
    "        return #TODO: implement exceptions\n",
    "    #print(\"Process {} Ended\".format(process_nr))\n",
    "    "
   ]
  },
  {
   "cell_type": "markdown",
   "metadata": {},
   "source": [
    "## The pipeline"
   ]
  },
  {
   "cell_type": "markdown",
   "metadata": {},
   "source": [
    "#### 1. getting the candidates"
   ]
  },
  {
   "cell_type": "code",
   "execution_count": 8,
   "metadata": {},
   "outputs": [],
   "source": [
    "candidate_files = os.listdir(\"candidates\")\n",
    "candidates = []\n",
    "for candidate_file in candidate_files:\n",
    "    if candidate_file.find('.pdb') >= 0:\n",
    "        candidate_name = candidate_file[:candidate_file.find('.pdb')]\n",
    "        candidates.append({\n",
    "            'candidate_name': candidate_name,\n",
    "            'candidate_file': candidate_file,\n",
    "            'mopac_result_pdb': None,\n",
    "            'mgtools_pdbqt_file': None,\n",
    "            'vina_result': None\n",
    "        })"
   ]
  },
  {
   "cell_type": "code",
   "execution_count": 9,
   "metadata": {},
   "outputs": [],
   "source": [
    "#candidates"
   ]
  },
  {
   "cell_type": "markdown",
   "metadata": {},
   "source": [
    "#### 2. running the calculations\n",
    "(this can be done in parallel of course)"
   ]
  },
  {
   "cell_type": "code",
   "execution_count": null,
   "metadata": {},
   "outputs": [],
   "source": [
    "for candidate in candidates:\n",
    "    run_for_candidate(candidate)"
   ]
  },
  {
   "cell_type": "code",
   "execution_count": 18,
   "metadata": {},
   "outputs": [
    {
     "name": "stdout",
     "output_type": "stream",
     "text": [
      "am here\n",
      "pipeline_temp/pemirolast_log.txt\n",
      "results? pemirolast_out.pdbqt\n"
     ]
    }
   ],
   "source": [
    "run_for_candidate(candidates[0])"
   ]
  },
  {
   "cell_type": "code",
   "execution_count": 11,
   "metadata": {},
   "outputs": [
    {
     "data": {
      "text/plain": [
       "{'candidate_name': 'pemirolast',\n",
       " 'candidate_file': 'pemirolast.pdb',\n",
       " 'mopac_result_pdb': 'pipeline_temp/pemirolast.pdb',\n",
       " 'mgtools_pdbqt_file': 'pipeline_temp/pemirolast.pdbqt',\n",
       " 'vina_result': None}"
      ]
     },
     "execution_count": 11,
     "metadata": {},
     "output_type": "execute_result"
    }
   ],
   "source": [
    "candidates[0]"
   ]
  },
  {
   "cell_type": "code",
   "execution_count": 17,
   "metadata": {},
   "outputs": [
    {
     "name": "stdout",
     "output_type": "stream",
     "text": [
      "am here\n",
      "pipeline_temp/pemirolast_log.txt\n",
      "results? pemirolast_out.pdbqt\n"
     ]
    }
   ],
   "source": [
    "run_vina(candidates[0]['mgtools_pdbqt_file'], candidates[0]['candidate_name'])"
   ]
  },
  {
   "cell_type": "code",
   "execution_count": null,
   "metadata": {},
   "outputs": [],
   "source": []
  }
 ],
 "metadata": {
  "kernelspec": {
   "display_name": "py3",
   "language": "python",
   "name": "py3"
  },
  "language_info": {
   "codemirror_mode": {
    "name": "ipython",
    "version": 3
   },
   "file_extension": ".py",
   "mimetype": "text/x-python",
   "name": "python",
   "nbconvert_exporter": "python",
   "pygments_lexer": "ipython3",
   "version": "3.6.10"
  }
 },
 "nbformat": 4,
 "nbformat_minor": 4
}
